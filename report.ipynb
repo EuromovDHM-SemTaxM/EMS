{
 "cells": [
  {
   "attachments": {},
   "cell_type": "markdown",
   "metadata": {},
   "source": [
    "# EMOTIONAL MOTOR SIGNIATURE "
   ]
  },
  {
   "attachments": {},
   "cell_type": "markdown",
   "metadata": {},
   "source": [
    "### Introduction "
   ]
  },
  {
   "attachments": {},
   "cell_type": "markdown",
   "metadata": {},
   "source": [
    "##### The objective of this task is to extract individual emotional motor signature from videos and motion captures. This task is done by representind each movement by a vector (shows the velocity) that will be used to compute the similarities between them. We then reduce the dimension of these results and run them through a classifier to see if we can discern the difference between movements expresing different emotions."
   ]
  },
  {
   "attachments": {},
   "cell_type": "markdown",
   "metadata": {},
   "source": [
    "### Technical concepts "
   ]
  },
  {
   "attachments": {},
   "cell_type": "markdown",
   "metadata": {},
   "source": [
    "##### The idea to be tested starts with the calculation of the instantaneous velocity gradients of the motions, on which we will see the similarities between them. To do this, we use the Wassertein metric, but the differences between the inputs mean that the gradient functions of the different motions will not have the same surface, so we will not have a condition for using the Wassertein metric correctly. This is why we will use the gradient distribution to charecterise a motion and create a square matrix of distances. At this stage, we can use the Multi Dimensional Scaling to have a 2D representation of the similarities of the motions on which we can apply clustering methods. For this task are needed some technical concepts:  \n",
    "1. Gradient \n",
    "2. Wassertein metric \n",
    "3. Multi Dimensional Scaling (MVMDS)\n",
    "4. Clustering methods"
   ]
  },
  {
   "attachments": {},
   "cell_type": "markdown",
   "metadata": {},
   "source": [
    "### Dataset "
   ]
  },
  {
   "attachments": {},
   "cell_type": "markdown",
   "metadata": {},
   "source": [
    "##### The datasets used in this project are Amigos and UCL dataset. Amigos dataset is a video dataset were the participants are watching some videos and expres their emotions based on the content of the videos. So first we had to extract the movements from the videos. The UCL dataset is a motion capture data with acted and non-acted emotions. "
   ]
  },
  {
   "attachments": {},
   "cell_type": "markdown",
   "metadata": {},
   "source": [
    "### Clustering Methods \n",
    "##### On the same dataset we apply different clustering methods to see which is the best one. The methods we are using are: \n",
    "1. KMeans\n",
    "2. Gaussian Mixture\n",
    "3. Birch \n",
    "4. Spectral Clustering "
   ]
  },
  {
   "attachments": {},
   "cell_type": "markdown",
   "metadata": {},
   "source": [
    "### Evaluation metrics \n",
    "##### To evaluate these methods we use 3 metrics, Accuracy, Cohen's Kappa coefficient and Matthews correlation coefficien. \n"
   ]
  },
  {
   "attachments": {},
   "cell_type": "markdown",
   "metadata": {},
   "source": [
    "### Results "
   ]
  },
  {
   "attachments": {},
   "cell_type": "markdown",
   "metadata": {},
   "source": [
    "##### This table shows the results of each method on UCL dataset."
   ]
  },
  {
   "cell_type": "code",
   "execution_count": 88,
   "metadata": {
    "tags": [
     "tag: hide_input"
    ]
   },
   "outputs": [
    {
     "data": {
      "text/html": [
       "<div>\n",
       "<style scoped>\n",
       "    .dataframe tbody tr th:only-of-type {\n",
       "        vertical-align: middle;\n",
       "    }\n",
       "\n",
       "    .dataframe tbody tr th {\n",
       "        vertical-align: top;\n",
       "    }\n",
       "\n",
       "    .dataframe thead th {\n",
       "        text-align: right;\n",
       "    }\n",
       "</style>\n",
       "<table border=\"1\" class=\"dataframe\">\n",
       "  <thead>\n",
       "    <tr style=\"text-align: right;\">\n",
       "      <th></th>\n",
       "      <th>Metric</th>\n",
       "      <th>KMeans</th>\n",
       "      <th>Gausisan Mixture</th>\n",
       "      <th>Birch</th>\n",
       "      <th>Spectral Clustering</th>\n",
       "    </tr>\n",
       "  </thead>\n",
       "  <tbody>\n",
       "    <tr>\n",
       "      <th>0</th>\n",
       "      <td>Accuracy</td>\n",
       "      <td>0.300000</td>\n",
       "      <td>0.290000</td>\n",
       "      <td>0.260000</td>\n",
       "      <td>0.310000</td>\n",
       "    </tr>\n",
       "    <tr>\n",
       "      <th>1</th>\n",
       "      <td>Kappa score</td>\n",
       "      <td>0.045010</td>\n",
       "      <td>0.054368</td>\n",
       "      <td>-0.003909</td>\n",
       "      <td>0.062233</td>\n",
       "    </tr>\n",
       "    <tr>\n",
       "      <th>2</th>\n",
       "      <td>Matthews corr coef</td>\n",
       "      <td>0.054775</td>\n",
       "      <td>0.067232</td>\n",
       "      <td>-0.005425</td>\n",
       "      <td>0.068982</td>\n",
       "    </tr>\n",
       "  </tbody>\n",
       "</table>\n",
       "</div>"
      ],
      "text/plain": [
       "               Metric    KMeans  Gausisan Mixture     Birch  \\\n",
       "0            Accuracy  0.300000          0.290000  0.260000   \n",
       "1         Kappa score  0.045010          0.054368 -0.003909   \n",
       "2  Matthews corr coef  0.054775          0.067232 -0.005425   \n",
       "\n",
       "   Spectral Clustering  \n",
       "0             0.310000  \n",
       "1             0.062233  \n",
       "2             0.068982  "
      ]
     },
     "execution_count": 88,
     "metadata": {},
     "output_type": "execute_result"
    }
   ],
   "source": [
    "import pandas as pd \n",
    "df=pd.read_csv('UCL.csv')\n",
    "df.columns = ['Metric', 'KMeans','Gausisan Mixture','Birch','Spectral Clustering']\n",
    "df"
   ]
  },
  {
   "attachments": {},
   "cell_type": "markdown",
   "metadata": {},
   "source": [
    "##### UCL dataset has also three annotations on the same motion, were observers has different culture. The observers are from Japan, Sri Lanka and USA. They use 8 emotion state to label the participants and the motion."
   ]
  },
  {
   "attachments": {},
   "cell_type": "markdown",
   "metadata": {},
   "source": [
    "##### The table below show the same method, KMeans, on three annotations of UCL dataset. "
   ]
  },
  {
   "cell_type": "code",
   "execution_count": 53,
   "metadata": {
    "tags": [
     "tag: hide_input"
    ]
   },
   "outputs": [
    {
     "data": {
      "text/html": [
       "<div>\n",
       "<style scoped>\n",
       "    .dataframe tbody tr th:only-of-type {\n",
       "        vertical-align: middle;\n",
       "    }\n",
       "\n",
       "    .dataframe tbody tr th {\n",
       "        vertical-align: top;\n",
       "    }\n",
       "\n",
       "    .dataframe thead th {\n",
       "        text-align: right;\n",
       "    }\n",
       "</style>\n",
       "<table border=\"1\" class=\"dataframe\">\n",
       "  <thead>\n",
       "    <tr style=\"text-align: right;\">\n",
       "      <th></th>\n",
       "      <th>UCL Japan</th>\n",
       "      <th>UCL Sri Lanka</th>\n",
       "      <th>UCL USA</th>\n",
       "    </tr>\n",
       "  </thead>\n",
       "  <tbody>\n",
       "    <tr>\n",
       "      <th>Accuracy</th>\n",
       "      <td>0.07</td>\n",
       "      <td>0.14</td>\n",
       "      <td>0.21</td>\n",
       "    </tr>\n",
       "    <tr>\n",
       "      <th>Kappa score</th>\n",
       "      <td>-0.046116</td>\n",
       "      <td>0.025146</td>\n",
       "      <td>0.050972</td>\n",
       "    </tr>\n",
       "    <tr>\n",
       "      <th>Matthews corr coef</th>\n",
       "      <td>-0.050266</td>\n",
       "      <td>0.026886</td>\n",
       "      <td>0.0552</td>\n",
       "    </tr>\n",
       "  </tbody>\n",
       "</table>\n",
       "</div>"
      ],
      "text/plain": [
       "                   UCL Japan UCL Sri Lanka   UCL USA\n",
       "Accuracy                0.07          0.14      0.21\n",
       "Kappa score        -0.046116      0.025146  0.050972\n",
       "Matthews corr coef -0.050266      0.026886    0.0552"
      ]
     },
     "execution_count": 53,
     "metadata": {},
     "output_type": "execute_result"
    }
   ],
   "source": [
    "df_j=pd.read_csv('UCL_japan.csv')\n",
    "df_us=pd.read_csv('UCL_us.csv')\n",
    "df_sl=pd.read_csv('UCL_sl.csv')\n",
    "df_j_kmeans= df_j.iloc[0]\n",
    "df_us_kmeans= df_us.iloc[0]\n",
    "df_sl_kmeans= df_sl.iloc[0]\n",
    "df_kmeans = pd.concat([df_j_kmeans, df_sl_kmeans, df_us_kmeans], axis=1)\n",
    "df_kmeans.columns = ['UCL Japan', 'UCL Sri Lanka', 'UCL USA']\n",
    "df_kmeans = df_kmeans.drop(index='Unnamed: 0')\n",
    "df_kmeans"
   ]
  },
  {
   "attachments": {},
   "cell_type": "markdown",
   "metadata": {},
   "source": [
    "##### Gausisan Mixture"
   ]
  },
  {
   "cell_type": "code",
   "execution_count": 57,
   "metadata": {
    "tags": [
     "tag: hide_input"
    ]
   },
   "outputs": [
    {
     "data": {
      "text/html": [
       "<div>\n",
       "<style scoped>\n",
       "    .dataframe tbody tr th:only-of-type {\n",
       "        vertical-align: middle;\n",
       "    }\n",
       "\n",
       "    .dataframe tbody tr th {\n",
       "        vertical-align: top;\n",
       "    }\n",
       "\n",
       "    .dataframe thead th {\n",
       "        text-align: right;\n",
       "    }\n",
       "</style>\n",
       "<table border=\"1\" class=\"dataframe\">\n",
       "  <thead>\n",
       "    <tr style=\"text-align: right;\">\n",
       "      <th></th>\n",
       "      <th>UCL Japan</th>\n",
       "      <th>UCL Sri Lanka</th>\n",
       "      <th>UCL USA</th>\n",
       "    </tr>\n",
       "  </thead>\n",
       "  <tbody>\n",
       "    <tr>\n",
       "      <th>Accuracy</th>\n",
       "      <td>0.09</td>\n",
       "      <td>0.08</td>\n",
       "      <td>0.13</td>\n",
       "    </tr>\n",
       "    <tr>\n",
       "      <th>Kappa score</th>\n",
       "      <td>-0.030518</td>\n",
       "      <td>-0.011344</td>\n",
       "      <td>-0.030646</td>\n",
       "    </tr>\n",
       "    <tr>\n",
       "      <th>Matthews corr coef</th>\n",
       "      <td>-0.033361</td>\n",
       "      <td>-0.013339</td>\n",
       "      <td>-0.03353</td>\n",
       "    </tr>\n",
       "  </tbody>\n",
       "</table>\n",
       "</div>"
      ],
      "text/plain": [
       "                   UCL Japan UCL Sri Lanka   UCL USA\n",
       "Accuracy                0.09          0.08      0.13\n",
       "Kappa score        -0.030518     -0.011344 -0.030646\n",
       "Matthews corr coef -0.033361     -0.013339  -0.03353"
      ]
     },
     "execution_count": 57,
     "metadata": {},
     "output_type": "execute_result"
    }
   ],
   "source": [
    "df_j_kmeans= df_j.iloc[1]\n",
    "df_us_kmeans= df_us.iloc[1]\n",
    "df_sl_kmeans= df_sl.iloc[1]\n",
    "df_kmeans = pd.concat([df_j_kmeans, df_sl_kmeans, df_us_kmeans], axis=1)\n",
    "df_kmeans.columns = ['UCL Japan', 'UCL Sri Lanka', 'UCL USA']\n",
    "df_gm = df_kmeans.drop(index='Unnamed: 0')\n",
    "df_gm"
   ]
  },
  {
   "attachments": {},
   "cell_type": "markdown",
   "metadata": {},
   "source": [
    "##### Birch"
   ]
  },
  {
   "cell_type": "code",
   "execution_count": 58,
   "metadata": {
    "tags": [
     "tag: hide_input"
    ]
   },
   "outputs": [
    {
     "data": {
      "text/html": [
       "<div>\n",
       "<style scoped>\n",
       "    .dataframe tbody tr th:only-of-type {\n",
       "        vertical-align: middle;\n",
       "    }\n",
       "\n",
       "    .dataframe tbody tr th {\n",
       "        vertical-align: top;\n",
       "    }\n",
       "\n",
       "    .dataframe thead th {\n",
       "        text-align: right;\n",
       "    }\n",
       "</style>\n",
       "<table border=\"1\" class=\"dataframe\">\n",
       "  <thead>\n",
       "    <tr style=\"text-align: right;\">\n",
       "      <th></th>\n",
       "      <th>UCL Japan</th>\n",
       "      <th>UCL Sri Lanka</th>\n",
       "      <th>UCL USA</th>\n",
       "    </tr>\n",
       "  </thead>\n",
       "  <tbody>\n",
       "    <tr>\n",
       "      <th>Accuracy</th>\n",
       "      <td>0.18</td>\n",
       "      <td>0.14</td>\n",
       "      <td>0.11</td>\n",
       "    </tr>\n",
       "    <tr>\n",
       "      <th>Kappa score</th>\n",
       "      <td>0.056863</td>\n",
       "      <td>-0.024981</td>\n",
       "      <td>-0.058939</td>\n",
       "    </tr>\n",
       "    <tr>\n",
       "      <th>Matthews corr coef</th>\n",
       "      <td>0.069538</td>\n",
       "      <td>-0.029083</td>\n",
       "      <td>-0.069116</td>\n",
       "    </tr>\n",
       "  </tbody>\n",
       "</table>\n",
       "</div>"
      ],
      "text/plain": [
       "                   UCL Japan UCL Sri Lanka   UCL USA\n",
       "Accuracy                0.18          0.14      0.11\n",
       "Kappa score         0.056863     -0.024981 -0.058939\n",
       "Matthews corr coef  0.069538     -0.029083 -0.069116"
      ]
     },
     "execution_count": 58,
     "metadata": {},
     "output_type": "execute_result"
    }
   ],
   "source": [
    "df_j_kmeans= df_j.iloc[2]\n",
    "df_us_kmeans= df_us.iloc[2]\n",
    "df_sl_kmeans= df_sl.iloc[2]\n",
    "df_kmeans = pd.concat([df_j_kmeans, df_sl_kmeans, df_us_kmeans], axis=1)\n",
    "df_kmeans.columns = ['UCL Japan', 'UCL Sri Lanka', 'UCL USA']\n",
    "df_b = df_kmeans.drop(index='Unnamed: 0')\n",
    "df_b"
   ]
  },
  {
   "attachments": {},
   "cell_type": "markdown",
   "metadata": {},
   "source": [
    "##### Spectral Clustering\n"
   ]
  },
  {
   "cell_type": "code",
   "execution_count": 59,
   "metadata": {
    "tags": [
     "tag: hide_input"
    ]
   },
   "outputs": [
    {
     "data": {
      "text/html": [
       "<div>\n",
       "<style scoped>\n",
       "    .dataframe tbody tr th:only-of-type {\n",
       "        vertical-align: middle;\n",
       "    }\n",
       "\n",
       "    .dataframe tbody tr th {\n",
       "        vertical-align: top;\n",
       "    }\n",
       "\n",
       "    .dataframe thead th {\n",
       "        text-align: right;\n",
       "    }\n",
       "</style>\n",
       "<table border=\"1\" class=\"dataframe\">\n",
       "  <thead>\n",
       "    <tr style=\"text-align: right;\">\n",
       "      <th></th>\n",
       "      <th>UCL Japan</th>\n",
       "      <th>UCL Sri Lanka</th>\n",
       "      <th>UCL USA</th>\n",
       "    </tr>\n",
       "  </thead>\n",
       "  <tbody>\n",
       "    <tr>\n",
       "      <th>Accuracy</th>\n",
       "      <td>0.26</td>\n",
       "      <td>0.14</td>\n",
       "      <td>0.15</td>\n",
       "    </tr>\n",
       "    <tr>\n",
       "      <th>Kappa score</th>\n",
       "      <td>0.111393</td>\n",
       "      <td>0.001967</td>\n",
       "      <td>-0.017917</td>\n",
       "    </tr>\n",
       "    <tr>\n",
       "      <th>Matthews corr coef</th>\n",
       "      <td>0.122251</td>\n",
       "      <td>0.00223</td>\n",
       "      <td>-0.019737</td>\n",
       "    </tr>\n",
       "  </tbody>\n",
       "</table>\n",
       "</div>"
      ],
      "text/plain": [
       "                   UCL Japan UCL Sri Lanka   UCL USA\n",
       "Accuracy                0.26          0.14      0.15\n",
       "Kappa score         0.111393      0.001967 -0.017917\n",
       "Matthews corr coef  0.122251       0.00223 -0.019737"
      ]
     },
     "execution_count": 59,
     "metadata": {},
     "output_type": "execute_result"
    }
   ],
   "source": [
    "df_j_kmeans= df_j.iloc[3]\n",
    "df_us_kmeans= df_us.iloc[3]\n",
    "df_sl_kmeans= df_sl.iloc[3]\n",
    "df_kmeans = pd.concat([df_j_kmeans, df_sl_kmeans, df_us_kmeans], axis=1)\n",
    "df_kmeans.columns = ['UCL Japan', 'UCL Sri Lanka', 'UCL USA']\n",
    "df_b = df_kmeans.drop(index='Unnamed: 0')\n",
    "df_b"
   ]
  },
  {
   "attachments": {},
   "cell_type": "markdown",
   "metadata": {},
   "source": [
    "##### One of the tasks is to see the difference between 2 datasets on the same method. The table below shows KMeans method on Amigos and UCL datasets."
   ]
  },
  {
   "cell_type": "code",
   "execution_count": 76,
   "metadata": {
    "tags": [
     "tag: hide_input"
    ]
   },
   "outputs": [
    {
     "data": {
      "text/html": [
       "<div>\n",
       "<style scoped>\n",
       "    .dataframe tbody tr th:only-of-type {\n",
       "        vertical-align: middle;\n",
       "    }\n",
       "\n",
       "    .dataframe tbody tr th {\n",
       "        vertical-align: top;\n",
       "    }\n",
       "\n",
       "    .dataframe thead th {\n",
       "        text-align: right;\n",
       "    }\n",
       "</style>\n",
       "<table border=\"1\" class=\"dataframe\">\n",
       "  <thead>\n",
       "    <tr style=\"text-align: right;\">\n",
       "      <th></th>\n",
       "      <th>Method\\Dataset</th>\n",
       "      <th>UCL</th>\n",
       "      <th>Amigos</th>\n",
       "    </tr>\n",
       "  </thead>\n",
       "  <tbody>\n",
       "    <tr>\n",
       "      <th>0</th>\n",
       "      <td>Accuracy</td>\n",
       "      <td>0.3</td>\n",
       "      <td>0.24</td>\n",
       "    </tr>\n",
       "    <tr>\n",
       "      <th>1</th>\n",
       "      <td>Kappa score</td>\n",
       "      <td>0.04501</td>\n",
       "      <td>-0.017962</td>\n",
       "    </tr>\n",
       "    <tr>\n",
       "      <th>2</th>\n",
       "      <td>Matthews corr coef</td>\n",
       "      <td>0.054775</td>\n",
       "      <td>-0.018154</td>\n",
       "    </tr>\n",
       "  </tbody>\n",
       "</table>\n",
       "</div>"
      ],
      "text/plain": [
       "       Method\\Dataset       UCL    Amigos\n",
       "0            Accuracy       0.3      0.24\n",
       "1         Kappa score   0.04501 -0.017962\n",
       "2  Matthews corr coef  0.054775 -0.018154"
      ]
     },
     "execution_count": 76,
     "metadata": {},
     "output_type": "execute_result"
    }
   ],
   "source": [
    "df_ucl=pd.read_csv('UCL.csv')\n",
    "df_A = pd.read_csv('Amigos.csv')\n",
    "df_ucl = df_ucl.transpose()\n",
    "df_A= df_A.transpose()\n",
    "df_ucl_kmeans= df_ucl.iloc[1]\n",
    "df_A_kmeans = df_A.iloc[1]\n",
    "df_kmeans = pd.concat([ df_ucl.iloc[0], df_ucl_kmeans, df_A_kmeans], axis=1)\n",
    "df_kmeans.columns = [ 'Method\\Dataset','UCL', 'Amigos']\n",
    "df_kmeans"
   ]
  },
  {
   "attachments": {},
   "cell_type": "markdown",
   "metadata": {},
   "source": [
    "##### Gausisan Mixture"
   ]
  },
  {
   "cell_type": "code",
   "execution_count": 79,
   "metadata": {
    "tags": [
     "tag: hide_input"
    ]
   },
   "outputs": [
    {
     "data": {
      "text/html": [
       "<div>\n",
       "<style scoped>\n",
       "    .dataframe tbody tr th:only-of-type {\n",
       "        vertical-align: middle;\n",
       "    }\n",
       "\n",
       "    .dataframe tbody tr th {\n",
       "        vertical-align: top;\n",
       "    }\n",
       "\n",
       "    .dataframe thead th {\n",
       "        text-align: right;\n",
       "    }\n",
       "</style>\n",
       "<table border=\"1\" class=\"dataframe\">\n",
       "  <thead>\n",
       "    <tr style=\"text-align: right;\">\n",
       "      <th></th>\n",
       "      <th>Metric\\Dataset</th>\n",
       "      <th>UCL</th>\n",
       "      <th>Amigos</th>\n",
       "    </tr>\n",
       "  </thead>\n",
       "  <tbody>\n",
       "    <tr>\n",
       "      <th>0</th>\n",
       "      <td>Accuracy</td>\n",
       "      <td>0.29</td>\n",
       "      <td>0.29</td>\n",
       "    </tr>\n",
       "    <tr>\n",
       "      <th>1</th>\n",
       "      <td>Kappa score</td>\n",
       "      <td>0.054368</td>\n",
       "      <td>0.054529</td>\n",
       "    </tr>\n",
       "    <tr>\n",
       "      <th>2</th>\n",
       "      <td>Matthews corr coef</td>\n",
       "      <td>0.067232</td>\n",
       "      <td>0.057237</td>\n",
       "    </tr>\n",
       "  </tbody>\n",
       "</table>\n",
       "</div>"
      ],
      "text/plain": [
       "       Metric\\Dataset       UCL    Amigos\n",
       "0            Accuracy      0.29      0.29\n",
       "1         Kappa score  0.054368  0.054529\n",
       "2  Matthews corr coef  0.067232  0.057237"
      ]
     },
     "execution_count": 79,
     "metadata": {},
     "output_type": "execute_result"
    }
   ],
   "source": [
    "df_ucl_kmeans= df_ucl.iloc[2]\n",
    "df_A_kmeans = df_A.iloc[2]\n",
    "df_gm = pd.concat([ df_ucl.iloc[0], df_ucl_kmeans, df_A_kmeans], axis=1)\n",
    "df_gm.columns = [ 'Metric\\Dataset','UCL', 'Amigos']\n",
    "df_gm"
   ]
  },
  {
   "attachments": {},
   "cell_type": "markdown",
   "metadata": {},
   "source": [
    "##### Birch"
   ]
  },
  {
   "cell_type": "code",
   "execution_count": 81,
   "metadata": {
    "tags": [
     "tag: hide_input"
    ]
   },
   "outputs": [
    {
     "data": {
      "text/html": [
       "<div>\n",
       "<style scoped>\n",
       "    .dataframe tbody tr th:only-of-type {\n",
       "        vertical-align: middle;\n",
       "    }\n",
       "\n",
       "    .dataframe tbody tr th {\n",
       "        vertical-align: top;\n",
       "    }\n",
       "\n",
       "    .dataframe thead th {\n",
       "        text-align: right;\n",
       "    }\n",
       "</style>\n",
       "<table border=\"1\" class=\"dataframe\">\n",
       "  <thead>\n",
       "    <tr style=\"text-align: right;\">\n",
       "      <th></th>\n",
       "      <th>Metric\\Dataset</th>\n",
       "      <th>UCL</th>\n",
       "      <th>Amigos</th>\n",
       "    </tr>\n",
       "  </thead>\n",
       "  <tbody>\n",
       "    <tr>\n",
       "      <th>0</th>\n",
       "      <td>Accuracy</td>\n",
       "      <td>0.26</td>\n",
       "      <td>0.25</td>\n",
       "    </tr>\n",
       "    <tr>\n",
       "      <th>1</th>\n",
       "      <td>Kappa score</td>\n",
       "      <td>-0.003909</td>\n",
       "      <td>0.003015</td>\n",
       "    </tr>\n",
       "    <tr>\n",
       "      <th>2</th>\n",
       "      <td>Matthews corr coef</td>\n",
       "      <td>-0.005425</td>\n",
       "      <td>0.003332</td>\n",
       "    </tr>\n",
       "  </tbody>\n",
       "</table>\n",
       "</div>"
      ],
      "text/plain": [
       "       Metric\\Dataset       UCL    Amigos\n",
       "0            Accuracy      0.26      0.25\n",
       "1         Kappa score -0.003909  0.003015\n",
       "2  Matthews corr coef -0.005425  0.003332"
      ]
     },
     "execution_count": 81,
     "metadata": {},
     "output_type": "execute_result"
    }
   ],
   "source": [
    "df_ucl_kmeans= df_ucl.iloc[3]\n",
    "df_A_kmeans = df_A.iloc[3]\n",
    "df_gm = pd.concat([ df_ucl.iloc[0], df_ucl_kmeans, df_A_kmeans], axis=1)\n",
    "df_gm.columns = [ 'Metric\\Dataset','UCL', 'Amigos']\n",
    "df_gm"
   ]
  },
  {
   "attachments": {},
   "cell_type": "markdown",
   "metadata": {},
   "source": [
    "##### Spectral Clustering\n"
   ]
  },
  {
   "cell_type": "code",
   "execution_count": 82,
   "metadata": {
    "tags": [
     "tag: hide_input"
    ]
   },
   "outputs": [
    {
     "data": {
      "text/html": [
       "<div>\n",
       "<style scoped>\n",
       "    .dataframe tbody tr th:only-of-type {\n",
       "        vertical-align: middle;\n",
       "    }\n",
       "\n",
       "    .dataframe tbody tr th {\n",
       "        vertical-align: top;\n",
       "    }\n",
       "\n",
       "    .dataframe thead th {\n",
       "        text-align: right;\n",
       "    }\n",
       "</style>\n",
       "<table border=\"1\" class=\"dataframe\">\n",
       "  <thead>\n",
       "    <tr style=\"text-align: right;\">\n",
       "      <th></th>\n",
       "      <th>Metric\\Dataset</th>\n",
       "      <th>UCL</th>\n",
       "      <th>Amigos</th>\n",
       "    </tr>\n",
       "  </thead>\n",
       "  <tbody>\n",
       "    <tr>\n",
       "      <th>0</th>\n",
       "      <td>Accuracy</td>\n",
       "      <td>0.31</td>\n",
       "      <td>0.24</td>\n",
       "    </tr>\n",
       "    <tr>\n",
       "      <th>1</th>\n",
       "      <td>Kappa score</td>\n",
       "      <td>0.062233</td>\n",
       "      <td>-0.015418</td>\n",
       "    </tr>\n",
       "    <tr>\n",
       "      <th>2</th>\n",
       "      <td>Matthews corr coef</td>\n",
       "      <td>0.068982</td>\n",
       "      <td>-0.015722</td>\n",
       "    </tr>\n",
       "  </tbody>\n",
       "</table>\n",
       "</div>"
      ],
      "text/plain": [
       "       Metric\\Dataset       UCL    Amigos\n",
       "0            Accuracy      0.31      0.24\n",
       "1         Kappa score  0.062233 -0.015418\n",
       "2  Matthews corr coef  0.068982 -0.015722"
      ]
     },
     "execution_count": 82,
     "metadata": {},
     "output_type": "execute_result"
    }
   ],
   "source": [
    "df_ucl_kmeans= df_ucl.iloc[4]\n",
    "df_A_kmeans = df_A.iloc[4]\n",
    "df_gm = pd.concat([ df_ucl.iloc[0], df_ucl_kmeans, df_A_kmeans], axis=1)\n",
    "df_gm.columns = [ 'Metric\\Dataset','UCL', 'Amigos']\n",
    "df_gm"
   ]
  },
  {
   "attachments": {},
   "cell_type": "markdown",
   "metadata": {},
   "source": [
    "#### Another task is to use multi dimensions, so we used MDS with 15 components."
   ]
  },
  {
   "attachments": {},
   "cell_type": "markdown",
   "metadata": {},
   "source": [
    "##### UCL Dataset with 15 components."
   ]
  },
  {
   "cell_type": "code",
   "execution_count": 89,
   "metadata": {
    "tags": [
     "tag:hide_input"
    ]
   },
   "outputs": [
    {
     "data": {
      "text/html": [
       "<div>\n",
       "<style scoped>\n",
       "    .dataframe tbody tr th:only-of-type {\n",
       "        vertical-align: middle;\n",
       "    }\n",
       "\n",
       "    .dataframe tbody tr th {\n",
       "        vertical-align: top;\n",
       "    }\n",
       "\n",
       "    .dataframe thead th {\n",
       "        text-align: right;\n",
       "    }\n",
       "</style>\n",
       "<table border=\"1\" class=\"dataframe\">\n",
       "  <thead>\n",
       "    <tr style=\"text-align: right;\">\n",
       "      <th></th>\n",
       "      <th>Metric</th>\n",
       "      <th>KMeans</th>\n",
       "      <th>Gausisan Mixture</th>\n",
       "      <th>Birch</th>\n",
       "      <th>Spectral Clustering</th>\n",
       "    </tr>\n",
       "  </thead>\n",
       "  <tbody>\n",
       "    <tr>\n",
       "      <th>0</th>\n",
       "      <td>Accuracy</td>\n",
       "      <td>0.250000</td>\n",
       "      <td>0.230000</td>\n",
       "      <td>0.260000</td>\n",
       "      <td>0.330000</td>\n",
       "    </tr>\n",
       "    <tr>\n",
       "      <th>1</th>\n",
       "      <td>Kappa score</td>\n",
       "      <td>0.008515</td>\n",
       "      <td>-0.015373</td>\n",
       "      <td>0.015336</td>\n",
       "      <td>0.108788</td>\n",
       "    </tr>\n",
       "    <tr>\n",
       "      <th>2</th>\n",
       "      <td>Matthews corr coef</td>\n",
       "      <td>0.009402</td>\n",
       "      <td>-0.019806</td>\n",
       "      <td>0.020893</td>\n",
       "      <td>0.109570</td>\n",
       "    </tr>\n",
       "  </tbody>\n",
       "</table>\n",
       "</div>"
      ],
      "text/plain": [
       "               Metric    KMeans  Gausisan Mixture     Birch  \\\n",
       "0            Accuracy  0.250000          0.230000  0.260000   \n",
       "1         Kappa score  0.008515         -0.015373  0.015336   \n",
       "2  Matthews corr coef  0.009402         -0.019806  0.020893   \n",
       "\n",
       "   Spectral Clustering  \n",
       "0             0.330000  \n",
       "1             0.108788  \n",
       "2             0.109570  "
      ]
     },
     "execution_count": 89,
     "metadata": {},
     "output_type": "execute_result"
    }
   ],
   "source": [
    "df_ucl=pd.read_csv('UCL_15D.csv')\n",
    "df_ucl.columns = ['Metric', 'KMeans','Gausisan Mixture','Birch','Spectral Clustering']\n",
    "df_ucl"
   ]
  },
  {
   "attachments": {},
   "cell_type": "markdown",
   "metadata": {},
   "source": [
    "##### Amigos dataset "
   ]
  },
  {
   "cell_type": "code",
   "execution_count": 90,
   "metadata": {
    "tags": [
     "tag: hide_input"
    ]
   },
   "outputs": [
    {
     "data": {
      "text/html": [
       "<div>\n",
       "<style scoped>\n",
       "    .dataframe tbody tr th:only-of-type {\n",
       "        vertical-align: middle;\n",
       "    }\n",
       "\n",
       "    .dataframe tbody tr th {\n",
       "        vertical-align: top;\n",
       "    }\n",
       "\n",
       "    .dataframe thead th {\n",
       "        text-align: right;\n",
       "    }\n",
       "</style>\n",
       "<table border=\"1\" class=\"dataframe\">\n",
       "  <thead>\n",
       "    <tr style=\"text-align: right;\">\n",
       "      <th></th>\n",
       "      <th>Metric</th>\n",
       "      <th>KMeans</th>\n",
       "      <th>Gausisan Mixture</th>\n",
       "      <th>Birch</th>\n",
       "      <th>Spectral Clustering</th>\n",
       "    </tr>\n",
       "  </thead>\n",
       "  <tbody>\n",
       "    <tr>\n",
       "      <th>0</th>\n",
       "      <td>Accuracy</td>\n",
       "      <td>0.240000</td>\n",
       "      <td>0.290000</td>\n",
       "      <td>0.250000</td>\n",
       "      <td>0.240000</td>\n",
       "    </tr>\n",
       "    <tr>\n",
       "      <th>1</th>\n",
       "      <td>Kappa score</td>\n",
       "      <td>-0.017962</td>\n",
       "      <td>0.054529</td>\n",
       "      <td>0.003015</td>\n",
       "      <td>-0.015418</td>\n",
       "    </tr>\n",
       "    <tr>\n",
       "      <th>2</th>\n",
       "      <td>Matthews corr coef</td>\n",
       "      <td>-0.018154</td>\n",
       "      <td>0.057237</td>\n",
       "      <td>0.003332</td>\n",
       "      <td>-0.015722</td>\n",
       "    </tr>\n",
       "  </tbody>\n",
       "</table>\n",
       "</div>"
      ],
      "text/plain": [
       "               Metric    KMeans  Gausisan Mixture     Birch  \\\n",
       "0            Accuracy  0.240000          0.290000  0.250000   \n",
       "1         Kappa score -0.017962          0.054529  0.003015   \n",
       "2  Matthews corr coef -0.018154          0.057237  0.003332   \n",
       "\n",
       "   Spectral Clustering  \n",
       "0             0.240000  \n",
       "1            -0.015418  \n",
       "2            -0.015722  "
      ]
     },
     "execution_count": 90,
     "metadata": {},
     "output_type": "execute_result"
    }
   ],
   "source": [
    "df_A=pd.read_csv('Amigos_15D.csv')\n",
    "df_A.columns = ['Metric', 'KMeans','Gausisan Mixture','Birch','Spectral Clustering']\n",
    "df_A"
   ]
  }
 ],
 "metadata": {
  "kernelspec": {
   "display_name": "IMS",
   "language": "python",
   "name": "python3"
  },
  "language_info": {
   "codemirror_mode": {
    "name": "ipython",
    "version": 3
   },
   "file_extension": ".py",
   "mimetype": "text/x-python",
   "name": "python",
   "nbconvert_exporter": "python",
   "pygments_lexer": "ipython3",
   "version": "3.9.16"
  },
  "orig_nbformat": 4
 },
 "nbformat": 4,
 "nbformat_minor": 2
}
