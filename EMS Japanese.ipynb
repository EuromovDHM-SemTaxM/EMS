{
 "cells": [
  {
   "cell_type": "code",
   "execution_count": 1,
   "metadata": {},
   "outputs": [],
   "source": [
    "# imports\n",
    "import pandas as pd\n",
    "import numpy as np\n",
    "import findiff\n",
    "from os import listdir\n",
    "from sklearn.manifold import MDS\n",
    "from scipy.stats import wasserstein_distance as wd\n",
    "from matplotlib import pyplot as plt\n",
    "import seaborn as sns         \n",
    "from mvlearn.embed import MVMDS\n",
    "from sklearn.cluster import KMeans\n",
    "from sklearn import metrics\n",
    "from sklearn.metrics import confusion_matrix"
   ]
  },
  {
   "cell_type": "code",
   "execution_count": 3,
   "metadata": {},
   "outputs": [],
   "source": [
    "annotations = pd.read_excel('Japanese_Label.xls')\n",
    "upset_files =annotations.loc[annotations['Japanese Label']== 'Upset', 'Filename']\n",
    "happy_files =annotations.loc[annotations['Japanese Label']== 'Happy', 'Filename']\n",
    "angry_files =annotations.loc[annotations['Japanese Label']== 'Angry', 'Filename']\n",
    "sad_files =annotations.loc[annotations['Japanese Label']== 'Sad', 'Filename']\n",
    "joyful_files =annotations.loc[annotations['Japanese Label']== 'Joyful', 'Filename']\n",
    "surprised_files =annotations.loc[annotations['Japanese Label']== 'Surprised', 'Filename']\n",
    "depresed_files =annotations.loc[annotations['Japanese Label']== 'Depressed', 'Filename']\n",
    "fearful_files =annotations.loc[annotations['Japanese Label']== 'Fearful', 'Filename']"
   ]
  },
  {
   "cell_type": "code",
   "execution_count": 10,
   "metadata": {},
   "outputs": [],
   "source": [
    "jp =annotations.iloc[:,1]"
   ]
  },
  {
   "cell_type": "code",
   "execution_count": 12,
   "metadata": {},
   "outputs": [],
   "source": [
    "annotation= pd.read_excel('US_Label.xls')\n",
    "upset_files_us=annotation.loc[annotation['US Label']== 'Upset', 'Filename']\n",
    "happy_files_us =annotation.loc[annotation['US Label']== 'Happy', 'Filename']\n",
    "angry_files_us =annotation.loc[annotation['US Label']== 'Angry', 'Filename']\n",
    "sad_files_us =annotation.loc[annotation['US Label']== 'Sad', 'Filename']\n",
    "joyful_files_us =annotation.loc[annotation['US Label']== 'Joyful', 'Filename']\n",
    "surprised_files_us =annotation.loc[annotation['US Label']== 'Surprised', 'Filename']\n",
    "depresed_files_us =annotation.loc[annotation['US Label']== 'Depressed', 'Filename']\n",
    "fearful_files_us =annotation.loc[annotation['US Label']== 'Fearful', 'Filename']"
   ]
  },
  {
   "cell_type": "code",
   "execution_count": 14,
   "metadata": {},
   "outputs": [],
   "source": [
    "us = annotation.iloc[:,1]"
   ]
  },
  {
   "cell_type": "code",
   "execution_count": 16,
   "metadata": {},
   "outputs": [
    {
     "name": "stdout",
     "output_type": "stream",
     "text": [
      "[[16  0  0  3  0  0  1  5]\n",
      " [ 0 11  0  0  0  3  0  2]\n",
      " [ 0  0  8  0  0  0  1  0]\n",
      " [ 0  0  0  9  0  0  0  0]\n",
      " [ 0  0  0  5  6  0  3  0]\n",
      " [ 0  4  0  0  0  0  0  0]\n",
      " [ 1  1  4  4  0  0 12  2]\n",
      " [ 3  3  0  0  0  3  0  2]]\n"
     ]
    }
   ],
   "source": [
    "conf = confusion_matrix(jp,us)\n",
    "print(conf)"
   ]
  },
  {
   "cell_type": "code",
   "execution_count": 12,
   "metadata": {},
   "outputs": [],
   "source": [
    "def calculate_similarity(series1, series2):\n",
    "    set1 = set(series1)\n",
    "    set2 = set(series2)\n",
    "    \n",
    "    intersection = set1.intersection(set2)\n",
    "    union = set1.union(set2)\n",
    "    \n",
    "    jaccard_similarity = len(intersection) / len(union)\n",
    "    agreement_percentage = jaccard_similarity * 100\n",
    "    \n",
    "    return agreement_percentage\n"
   ]
  },
  {
   "cell_type": "code",
   "execution_count": 13,
   "metadata": {},
   "outputs": [
    {
     "data": {
      "text/plain": [
       "61.53846153846154"
      ]
     },
     "execution_count": 13,
     "metadata": {},
     "output_type": "execute_result"
    }
   ],
   "source": [
    "calculate_similarity(fearful_files,fearful_files_us)"
   ]
  },
  {
   "attachments": {},
   "cell_type": "markdown",
   "metadata": {},
   "source": [
    "#### The similarity between japanese and american annotations on fearfull emotion is 61.54 % "
   ]
  },
  {
   "cell_type": "code",
   "execution_count": 14,
   "metadata": {},
   "outputs": [
    {
     "data": {
      "text/plain": [
       "0.0"
      ]
     },
     "execution_count": 14,
     "metadata": {},
     "output_type": "execute_result"
    }
   ],
   "source": [
    "calculate_similarity(sad_files_us,sad_files)"
   ]
  },
  {
   "attachments": {},
   "cell_type": "markdown",
   "metadata": {},
   "source": [
    "#### The similarity between japanese and american annotations on sad emotion is 0 %, they don't agree in this emotion."
   ]
  },
  {
   "cell_type": "code",
   "execution_count": 16,
   "metadata": {},
   "outputs": [
    {
     "data": {
      "text/plain": [
       "42.857142857142854"
      ]
     },
     "execution_count": 16,
     "metadata": {},
     "output_type": "execute_result"
    }
   ],
   "source": [
    "calculate_similarity(happy_files_us,happy_files)"
   ]
  },
  {
   "attachments": {},
   "cell_type": "markdown",
   "metadata": {},
   "source": [
    "#### The similarity between japanese and american annotations on happy emotion is 42.86 % "
   ]
  },
  {
   "cell_type": "code",
   "execution_count": 17,
   "metadata": {},
   "outputs": [
    {
     "data": {
      "text/plain": [
       "55.172413793103445"
      ]
     },
     "execution_count": 17,
     "metadata": {},
     "output_type": "execute_result"
    }
   ],
   "source": [
    "calculate_similarity(angry_files_us,angry_files)"
   ]
  },
  {
   "attachments": {},
   "cell_type": "markdown",
   "metadata": {},
   "source": [
    "#### The similarity between japanese and american annotations on angry emotion is 55.17 % "
   ]
  },
  {
   "cell_type": "code",
   "execution_count": 18,
   "metadata": {},
   "outputs": [
    {
     "data": {
      "text/plain": [
       "41.37931034482759"
      ]
     },
     "execution_count": 18,
     "metadata": {},
     "output_type": "execute_result"
    }
   ],
   "source": [
    "calculate_similarity(surprised_files_us,surprised_files)"
   ]
  },
  {
   "attachments": {},
   "cell_type": "markdown",
   "metadata": {},
   "source": [
    "#### The similarity between japanese and american annotations on surprised emotion is 41.38 % "
   ]
  },
  {
   "cell_type": "code",
   "execution_count": 19,
   "metadata": {},
   "outputs": [
    {
     "data": {
      "text/plain": [
       "10.0"
      ]
     },
     "execution_count": 19,
     "metadata": {},
     "output_type": "execute_result"
    }
   ],
   "source": [
    "calculate_similarity(upset_files_us,upset_files)"
   ]
  },
  {
   "attachments": {},
   "cell_type": "markdown",
   "metadata": {},
   "source": [
    "#### The similarity between japanese and american annotations on upset emotion is 10 % "
   ]
  },
  {
   "cell_type": "code",
   "execution_count": 20,
   "metadata": {},
   "outputs": [
    {
     "data": {
      "text/plain": [
       "45.83333333333333"
      ]
     },
     "execution_count": 20,
     "metadata": {},
     "output_type": "execute_result"
    }
   ],
   "source": [
    "calculate_similarity(depresed_files_us,depresed_files)"
   ]
  },
  {
   "attachments": {},
   "cell_type": "markdown",
   "metadata": {},
   "source": [
    "#### The similarity between japanese and american annotations on depresed emotion is 45.83 % "
   ]
  },
  {
   "cell_type": "code",
   "execution_count": 21,
   "metadata": {},
   "outputs": [
    {
     "data": {
      "text/plain": [
       "42.857142857142854"
      ]
     },
     "execution_count": 21,
     "metadata": {},
     "output_type": "execute_result"
    }
   ],
   "source": [
    "calculate_similarity(joyful_files_us,joyful_files)"
   ]
  },
  {
   "attachments": {},
   "cell_type": "markdown",
   "metadata": {},
   "source": [
    "#### The similarity between japanese and american annotations on joyfull emotion is 42.86 % "
   ]
  },
  {
   "cell_type": "code",
   "execution_count": 5,
   "metadata": {},
   "outputs": [
    {
     "data": {
      "text/plain": [
       "96"
      ]
     },
     "execution_count": 5,
     "metadata": {},
     "output_type": "execute_result"
    }
   ],
   "source": [
    "with open(\"folder_96_columns/FA4_10-7.csm\",'r') as f:\n",
    "    tmp1 =f.readlines()[13]\n",
    "tmp1 = tmp1.split(' ')[:-1]\n",
    "header2= []\n",
    "for i in tmp1:\n",
    "    header2.append(i+\"_x\")\n",
    "    header2.append(i+\"_y\")\n",
    "    header2.append(i+\"_z\")\n",
    "len(header2)"
   ]
  },
  {
   "cell_type": "code",
   "execution_count": 24,
   "metadata": {},
   "outputs": [
    {
     "data": {
      "text/plain": [
       "111"
      ]
     },
     "execution_count": 24,
     "metadata": {},
     "output_type": "execute_result"
    }
   ],
   "source": [
    "tmps = listdir(\"acted1\")\n",
    "len(tmps)"
   ]
  },
  {
   "cell_type": "code",
   "execution_count": 6,
   "metadata": {},
   "outputs": [],
   "source": [
    "\n",
    "\n",
    "tmps = listdir(\"acted1\")\n",
    "\n",
    "distributions=[]\n",
    "for tmp in tmps:\n",
    "    #read data\n",
    "    try:\n",
    "        data = pd.read_csv(\"acted1/\"+tmp,skiprows=17,sep=\"  \",index_col=0,header=None,engine='python')\n",
    "        # data = data.drop(columns=data.columns[-1]) #delete useless NA filled last column\n",
    "    except pd.errors.ParserError: #contains \"DROPOUT\" as values for some sensors at the end, separated with spaces and not tabs, which messes up the parsins \n",
    "        data = pd.read_csv(\"acted1/\"+tmp,skiprows=17,sep=\"  \",index_col=0,header=None, engine='python')\n",
    "# data.shape[1]\n",
    "    if data.shape[1] == 102:\n",
    "        data = data.drop(data.columns[-6:], axis=1)\n",
    "# data.shape\n",
    "    data.columns = header2\n",
    "\n",
    "    # grad of each column\n",
    "    dt = 1/60 # distance between two frames is (1/60)s\n",
    "    grad=findiff.Gradient(h=[dt])\n",
    "    vitesses=[] #liste rad vitesse inst\n",
    "    for col in range(len(data.columns)):\n",
    "        d = np.array(data[data.columns[col]])\n",
    "        v = grad(d)\n",
    "        vitesses.append(v[0])\n",
    "    \n",
    "    #processing distribution for each column (result of hist are couples (distribution,bins), so we take only the first part of the hist)\n",
    "    distribution = []\n",
    "    for v in vitesses:\n",
    "        distribution.append(np.histogram(v,bins=101,range=[0,500])[0])\n",
    "    \n",
    "    distributions.append(distribution)"
   ]
  },
  {
   "cell_type": "code",
   "execution_count": 7,
   "metadata": {},
   "outputs": [
    {
     "name": "stdout",
     "output_type": "stream",
     "text": [
      "96\n"
     ]
    }
   ],
   "source": [
    "#processing the wassenstein distances and making the distance matrix for MDS (! for the first captor !)\n",
    "nb_mvt = len(tmps) #nombre de mouvements\n",
    "nb_sensors = len(distributions[0])\n",
    "Xs = []\n",
    "\n",
    "for k in range(nb_sensors):\n",
    "    w_dist=np.empty((nb_mvt,nb_mvt))\n",
    "    for i in range(nb_mvt):\n",
    "        w_dist[i][i]=0\n",
    "        for j in range(i+1,nb_mvt):\n",
    "            w_dist[i][j] = w_dist[j][i] = wd(distributions[i][k],distributions[j][k])\n",
    "    Xs.append(w_dist)\n",
    "        \n",
    "print(len(Xs))\n"
   ]
  },
  {
   "attachments": {},
   "cell_type": "markdown",
   "metadata": {},
   "source": [
    "<h3>Now we use the Xs to calculate a 2D array to represent the similarities between the mouvements in the variable pts ( plus a part of the code to save / read the value of pts)"
   ]
  },
  {
   "cell_type": "code",
   "execution_count": 66,
   "metadata": {},
   "outputs": [],
   "source": [
    "from sklearn.manifold import TSNE\n",
    "pts=TSNE().fit_transform(Xs[1])"
   ]
  },
  {
   "cell_type": "code",
   "execution_count": 8,
   "metadata": {},
   "outputs": [
    {
     "data": {
      "text/plain": [
       "{'components_': array([[-5.87186505e-02, -2.23482586e-02],\n",
       "        [-1.46937089e-02, -5.06748461e-02],\n",
       "        [-5.89875054e-02,  5.95519749e-02],\n",
       "        [-5.00292176e-02, -3.99067612e-02],\n",
       "        [-5.75357956e-02,  6.69312460e-02],\n",
       "        [-5.89989130e-02,  7.84832002e-02],\n",
       "        [-5.09796176e-02, -1.76241287e-02],\n",
       "        [-6.27646158e-02, -6.06183321e-02],\n",
       "        [-6.64326276e-02, -3.01175683e-02],\n",
       "        [-6.08760450e-02,  4.15669630e-02],\n",
       "        [-4.13555979e-02,  5.48682278e-02],\n",
       "        [-5.99344796e-02, -2.89263495e-02],\n",
       "        [-4.19160232e-02, -6.15105716e-02],\n",
       "        [-6.11394538e-02, -2.01386957e-02],\n",
       "        [-7.02021240e-02,  4.05443642e-02],\n",
       "        [-5.74789415e-02,  3.28873535e-03],\n",
       "        [-4.29769149e-02, -1.02189503e-02],\n",
       "        [-4.20155345e-02,  6.18582526e-02],\n",
       "        [-5.54131655e-02,  3.52116568e-02],\n",
       "        [-6.73532384e-02,  3.75067625e-02],\n",
       "        [-8.16792778e-02,  1.80168555e-02],\n",
       "        [-4.55655792e-02,  1.25266727e-02],\n",
       "        [-6.05676090e-02,  5.80358585e-02],\n",
       "        [-5.10757872e-02, -6.84930958e-03],\n",
       "        [-7.13161133e-02,  7.72921805e-02],\n",
       "        [-6.87911352e-02,  3.46666909e-02],\n",
       "        [-8.58911737e-02,  3.50662797e-02],\n",
       "        [-6.00124479e-02,  4.55401720e-02],\n",
       "        [-7.16397816e-02,  1.04464757e-02],\n",
       "        [ 2.95062892e-03, -6.22402708e-02],\n",
       "        [-6.35007696e-02,  2.01547510e-02],\n",
       "        [-5.30591686e-02,  4.55340953e-02],\n",
       "        [-7.36529785e-02,  7.02595812e-02],\n",
       "        [-5.31851566e-02,  3.34368953e-02],\n",
       "        [-5.28638390e-02,  1.97814935e-02],\n",
       "        [-5.45248875e-02,  5.28595800e-02],\n",
       "        [-7.94015584e-02,  2.37033130e-02],\n",
       "        [ 7.55395969e-02, -9.59710254e-02],\n",
       "        [ 6.34519246e-02, -1.59590253e-01],\n",
       "        [ 2.06311683e-02, -2.12533152e-01],\n",
       "        [-9.29951082e-03, -9.20471627e-02],\n",
       "        [ 3.76130699e-02, -1.73591741e-01],\n",
       "        [-1.94130850e-02, -2.40996500e-02],\n",
       "        [ 3.61814381e-02, -1.78622583e-01],\n",
       "        [ 8.51756346e-02, -1.25318785e-03],\n",
       "        [ 6.38429174e-02, -1.25333933e-01],\n",
       "        [ 3.31990350e-02, -1.57888390e-01],\n",
       "        [ 8.14291825e-02, -1.74782695e-01],\n",
       "        [ 4.36163503e-01, -8.52728829e-02],\n",
       "        [ 4.46139426e-02, -2.19330705e-01],\n",
       "        [ 6.74355042e-02, -2.56187377e-01],\n",
       "        [ 8.98004016e-02, -2.99759357e-03],\n",
       "        [ 1.22837488e-01,  1.35128251e-02],\n",
       "        [ 8.83747542e-02, -2.17019569e-02],\n",
       "        [-7.01739389e-02, -1.37027048e-02],\n",
       "        [-2.90809684e-02, -7.22944114e-02],\n",
       "        [-4.70393077e-02,  3.65031520e-02],\n",
       "        [-4.07711234e-02,  3.30215760e-02],\n",
       "        [-7.12316171e-02,  4.06982610e-02],\n",
       "        [-5.11449868e-02,  1.02358381e-02],\n",
       "        [-6.33009245e-02,  2.27947055e-02],\n",
       "        [-6.74024025e-02, -6.11441561e-04],\n",
       "        [-6.71860465e-02,  2.37289930e-02],\n",
       "        [-4.27978273e-02,  2.40508366e-02],\n",
       "        [-5.50470838e-02,  1.48638471e-02],\n",
       "        [-4.17548718e-02,  2.80974780e-02],\n",
       "        [-5.87505408e-02, -6.37155180e-03],\n",
       "        [-5.02139641e-02, -2.50354522e-02],\n",
       "        [-1.75020975e-02,  4.92668330e-02],\n",
       "        [-7.04258877e-02,  2.84542849e-02],\n",
       "        [-3.10762778e-02, -4.48878926e-02],\n",
       "        [-8.72888043e-02,  3.59332665e-02],\n",
       "        [-4.75207010e-02,  1.56657369e-02],\n",
       "        [-3.68112052e-02, -7.68488784e-03],\n",
       "        [-3.74537283e-02,  4.53769913e-02],\n",
       "        [-2.11608406e-02,  3.77716310e-02],\n",
       "        [-4.85964915e-02,  6.30006315e-02],\n",
       "        [-3.90693747e-02,  2.01977208e-02],\n",
       "        [-5.07753541e-02, -1.23899111e-02],\n",
       "        [-4.97243347e-02,  6.11033454e-02],\n",
       "        [-3.28469686e-02,  2.06796242e-02],\n",
       "        [-6.14686065e-02,  3.31182786e-02],\n",
       "        [-4.66015171e-03,  5.29338576e-02],\n",
       "        [-5.14521887e-02, -5.20552194e-02],\n",
       "        [-5.02091163e-02, -2.69371329e-02],\n",
       "        [-2.65793651e-02, -2.80033240e-02],\n",
       "        [-6.81964559e-03, -1.36665165e-02],\n",
       "        [-6.50137907e-03, -7.55465308e-02],\n",
       "        [ 3.77086125e-02,  2.54987959e-02],\n",
       "        [-4.90536119e-02, -5.30348416e-02],\n",
       "        [ 7.49162344e-03, -2.71673665e-02],\n",
       "        [-1.46402316e-02, -3.63895709e-02],\n",
       "        [-7.38868699e-03, -5.73257893e-02],\n",
       "        [-2.56296138e-02, -1.95922489e-04],\n",
       "        [-8.09338404e-03,  2.38280318e-02],\n",
       "        [ 1.57992143e-01,  1.99043882e-01],\n",
       "        [-6.34825527e-02,  9.72677329e-04],\n",
       "        [ 1.29413462e-01, -3.24822218e-02],\n",
       "        [ 1.73508440e-01,  3.50137481e-01],\n",
       "        [-3.26038343e-02,  7.01781337e-02],\n",
       "        [ 4.30772216e-03,  5.54192136e-02],\n",
       "        [ 3.23000799e-01,  1.18530160e-01],\n",
       "        [ 1.44835519e-01, -2.05911776e-01],\n",
       "        [ 2.43382882e-01, -2.02908186e-01],\n",
       "        [ 2.88907527e-01, -1.09956701e-01],\n",
       "        [ 1.55511830e-01, -5.90594078e-02],\n",
       "        [ 1.72375474e-01,  2.02540817e-01],\n",
       "        [ 1.10006807e-01, -1.42835358e-02],\n",
       "        [ 2.36062814e-01,  2.91671477e-01],\n",
       "        [ 1.57206124e-01,  2.56660718e-01],\n",
       "        [ 1.79020100e-01,  2.27657245e-01]]),\n",
       " 'n_components': 2,\n",
       " 'num_iter': 15,\n",
       " 'dissimilarity': 'precomputed'}"
      ]
     },
     "execution_count": 8,
     "metadata": {},
     "output_type": "execute_result"
    }
   ],
   "source": [
    "#using MVMDS\n",
    "mds = MVMDS(dissimilarity='precomputed')\n",
    "pts = mds.fit_transform(Xs)\n",
    "mds.__dict__"
   ]
  },
  {
   "attachments": {},
   "cell_type": "markdown",
   "metadata": {},
   "source": [
    "<h1> Visualisation"
   ]
  },
  {
   "cell_type": "code",
   "execution_count": 68,
   "metadata": {},
   "outputs": [
    {
     "data": {
      "text/plain": [
       "(111, 2)"
      ]
     },
     "execution_count": 68,
     "metadata": {},
     "output_type": "execute_result"
    }
   ],
   "source": [
    "pts.shape"
   ]
  },
  {
   "cell_type": "code",
   "execution_count": 69,
   "metadata": {},
   "outputs": [
    {
     "data": {
      "text/plain": [
       "111"
      ]
     },
     "execution_count": 69,
     "metadata": {},
     "output_type": "execute_result"
    }
   ],
   "source": [
    "tmps = listdir(\"acted1\")\n",
    "len(tmps)"
   ]
  },
  {
   "cell_type": "code",
   "execution_count": 72,
   "metadata": {},
   "outputs": [
    {
     "data": {
      "text/plain": [
       "<matplotlib.legend.Legend at 0x255fd0c3580>"
      ]
     },
     "execution_count": 72,
     "metadata": {},
     "output_type": "execute_result"
    },
    {
     "data": {
      "image/png": "[encoded data removed]",
      "text/plain": [
       "<Figure size 1000x1000 with 1 Axes>"
      ]
     },
     "metadata": {},
     "output_type": "display_data"
    }
   ],
   "source": [
    "tmps = listdir(\"acted1\") # current directory\n",
    "\n",
    "#grp = { 'emotion' : [ [x1,x2] , [y1,y2] , color ] , ...}\n",
    "grp = {}\n",
    "for i in range(len(tmps)):\n",
    "    tmp = tmps[i].split(\"_\") # list of all names of files where are seperated by _\n",
    "    #['ale', 'lift', 'an', '1', 'fin.csm']\n",
    "    \n",
    "    if tmp[-2] not in grp.keys():\n",
    "         grp[tmp[-2]]=[[],[]]\n",
    "    grp[tmp[-2]][0].append(pts[i][0])\n",
    "    grp[tmp[-2]][1].append(pts[i][1])\n",
    "fig = plt.figure(figsize=(10,10))\n",
    "for i in range(len(grp.keys())):\n",
    "    i = list(grp.keys())[i]\n",
    "    ax = sns.scatterplot(x=grp[i][0], y=grp[i][1])\n",
    "legend1 = ax.legend(grp.keys())\n",
    "ax.add_artist(legend1)"
   ]
  },
  {
   "attachments": {},
   "cell_type": "markdown",
   "metadata": {},
   "source": [
    "<h1> Kmean and visualisation"
   ]
  },
  {
   "cell_type": "code",
   "execution_count": 9,
   "metadata": {},
   "outputs": [
    {
     "name": "stderr",
     "output_type": "stream",
     "text": [
      "c:\\Users\\DELL\\anaconda3\\envs\\IMS\\lib\\site-packages\\sklearn\\cluster\\_kmeans.py:870: FutureWarning: The default value of `n_init` will change from 10 to 'auto' in 1.4. Set the value of `n_init` explicitly to suppress the warning\n",
      "  warnings.warn(\n"
     ]
    }
   ],
   "source": [
    "kmeans = KMeans( n_clusters=8,random_state=0).fit(pts)\n",
    "clusters = kmeans.labels_"
   ]
  },
  {
   "cell_type": "code",
   "execution_count": 75,
   "metadata": {},
   "outputs": [
    {
     "data": {
      "text/plain": [
       "<matplotlib.legend.Legend at 0x255815eefd0>"
      ]
     },
     "execution_count": 75,
     "metadata": {},
     "output_type": "execute_result"
    },
    {
     "data": {
      "image/png": "[encoded data removed]",
      "text/plain": [
       "<Figure size 1000x1000 with 1 Axes>"
      ]
     },
     "metadata": {},
     "output_type": "display_data"
    }
   ],
   "source": [
    "tmps = listdir(\"acted1\") # current directory\n",
    "\n",
    "#grp = { 'emotion' : [ [x1,x2] , [y1,y2] , color ] , ...}\n",
    "grp = {}\n",
    "for i in range(len(tmps)):\n",
    "    tmp = tmps[i].split(\"_\") # list of all names of files where are seperated by _\n",
    "    #['ale', 'lift', 'an', '1', 'fin.csm']\n",
    "    if tmp[-2] not in grp.keys():\n",
    "         grp[tmp[-2]]=[[],[]]\n",
    "    grp[tmp[-2]][0].append(pts[i][0])\n",
    "    grp[tmp[-2]][1].append(pts[i][1])\n",
    "fig = plt.figure(figsize=(10,10))\n",
    "for i in range(len(grp.keys())):\n",
    "    i = list(grp.keys())[i]\n",
    "    ax = sns.scatterplot(x=grp[i][0], y=grp[i][1])\n",
    "legend1 = ax.legend(grp.keys())\n",
    "ax.add_artist(legend1)"
   ]
  },
  {
   "cell_type": "code",
   "execution_count": 76,
   "metadata": {},
   "outputs": [
    {
     "data": {
      "text/plain": [
       "Text(0.5, 1.0, 'Scattering into 8 clusters')"
      ]
     },
     "execution_count": 76,
     "metadata": {},
     "output_type": "execute_result"
    },
    {
     "data": {
      "text/plain": [
       "<Figure size 1000x1000 with 0 Axes>"
      ]
     },
     "metadata": {},
     "output_type": "display_data"
    },
    {
     "data": {
      "image/png": "[encoded data removed]",
      "text/plain": [
       "<Figure size 1000x1000 with 1 Axes>"
      ]
     },
     "metadata": {},
     "output_type": "display_data"
    }
   ],
   "source": [
    "fig = plt.figure(figsize=(10,10))\n",
    "X = []\n",
    "Y = []\n",
    "for i in range(len(pts)):\n",
    "    X.append(pts[i][0])\n",
    "    Y.append(pts[i][1])\n",
    "fig = plt.figure(figsize=(10,10))\n",
    "ax = sns.scatterplot(x=X,y=Y,c=kmeans.labels_)\n",
    "plt.title(\"Scattering into 8 clusters\")"
   ]
  },
  {
   "attachments": {},
   "cell_type": "markdown",
   "metadata": {},
   "source": [
    "<h1>Evaluation"
   ]
  },
  {
   "cell_type": "code",
   "execution_count": 15,
   "metadata": {},
   "outputs": [
    {
     "data": {
      "text/plain": [
       "179"
      ]
     },
     "execution_count": 15,
     "metadata": {},
     "output_type": "execute_result"
    }
   ],
   "source": [
    "tmps = listdir(\"acted\") # current directory\n",
    "len(tmps)"
   ]
  },
  {
   "cell_type": "code",
   "execution_count": null,
   "metadata": {},
   "outputs": [],
   "source": [
    "tmps = listdir(\"acted1\") # current directory\n",
    "ems = [] #TRUE emotions from file names\n",
    "for i in tmps:\n",
    "    ems.append(i.split(\"_\")[-2])\n",
    "em = np.unique(ems)"
   ]
  },
  {
   "cell_type": "code",
   "execution_count": 12,
   "metadata": {},
   "outputs": [
    {
     "data": {
      "text/plain": [
       "0.18"
      ]
     },
     "execution_count": 12,
     "metadata": {},
     "output_type": "execute_result"
    }
   ],
   "source": [
    "\n",
    "from itertools import permutations\n",
    "comb_predd=[]\n",
    "categories = em\n",
    "label= list(kmeans.labels_)\n",
    "labels = np.unique(label)\n",
    "acc = []\n",
    "kappa =[]\n",
    "mcc = []\n",
    "mappings = []\n",
    "combinations = list(permutations(labels, len(labels)))\n",
    "\n",
    "for combination in combinations:\n",
    "    mapping = dict(zip(combination, categories))\n",
    "    converted = [mapping[emo] for emo in label]\n",
    "    comb_predd.append(converted)\n",
    "    combbb = comb_predd[:20]\n",
    "    for i in range(len(comb_predd[:12])):\n",
    "        report_kmeans = metrics.classification_report(ems,comb_predd[i])\n",
    "        accuracy =float(report_kmeans.split()[-14])\n",
    "       \n",
    "    acc.append(accuracy)\n",
    "best_acc = max(acc)\n",
    "best_acc"
   ]
  },
  {
   "cell_type": "code",
   "execution_count": null,
   "metadata": {},
   "outputs": [],
   "source": []
  },
  {
   "cell_type": "code",
   "execution_count": null,
   "metadata": {},
   "outputs": [],
   "source": [
    "for i in range(len(ems)):\n",
    "    if ems[i]=='joyful':\n",
    "        ems[i]= 0\n",
    "    elif ems[i]=='angry':\n",
    "        ems[i]= 1\n",
    "    elif ems[i]=='surprised':\n",
    "        ems[i]= 2\n",
    "    elif ems[i]== 'depresed':\n",
    "        ems[i]=3\n",
    "    elif ems[i]== 'sad':\n",
    "        ems[i]=4\n",
    "    elif ems[i]== 'happy':\n",
    "        ems[i]=5\n",
    "    elif ems[i]== 'fearful':\n",
    "        ems[i]=6\n",
    "    elif ems[i]== 'upset':\n",
    "        ems[i]=7"
   ]
  },
  {
   "cell_type": "code",
   "execution_count": null,
   "metadata": {},
   "outputs": [],
   "source": [
    "prediction=list(kmeans.labels_)\n"
   ]
  },
  {
   "cell_type": "code",
   "execution_count": null,
   "metadata": {},
   "outputs": [
    {
     "name": "stdout",
     "output_type": "stream",
     "text": [
      "              precision    recall  f1-score   support\n",
      "\n",
      "           0       0.13      0.29      0.18        14\n",
      "           1       0.00      0.00      0.00        25\n",
      "           2       0.09      0.04      0.06        24\n",
      "           3       0.00      0.00      0.00        16\n",
      "           4       0.00      0.00      0.00         4\n",
      "           5       0.00      0.00      0.00         9\n",
      "           6       0.06      0.11      0.08         9\n",
      "           7       0.06      0.20      0.09        10\n",
      "\n",
      "    accuracy                           0.07       111\n",
      "   macro avg       0.04      0.08      0.05       111\n",
      "weighted avg       0.05      0.07      0.05       111\n",
      "\n"
     ]
    }
   ],
   "source": [
    "report_kmeans = metrics.classification_report(ems,prediction)\n",
    "print(report_kmeans)"
   ]
  },
  {
   "attachments": {},
   "cell_type": "markdown",
   "metadata": {},
   "source": [
    "visualisation of detailed rapport about the atribution of emotion-to-cluster that gives the best accuracy (the value of comb_emo to write manually) "
   ]
  },
  {
   "attachments": {},
   "cell_type": "markdown",
   "metadata": {},
   "source": [
    "<h3> trying other clustering methods"
   ]
  },
  {
   "attachments": {},
   "cell_type": "markdown",
   "metadata": {},
   "source": [
    "<h4> clustering methods"
   ]
  },
  {
   "cell_type": "code",
   "execution_count": 17,
   "metadata": {},
   "outputs": [],
   "source": [
    "from sklearn.mixture import GaussianMixture\n",
    "model = GaussianMixture(n_components=8)\n",
    "clusters_GM = model.fit_predict(pts)"
   ]
  },
  {
   "cell_type": "code",
   "execution_count": 18,
   "metadata": {},
   "outputs": [
    {
     "name": "stdout",
     "output_type": "stream",
     "text": [
      "              precision    recall  f1-score   support\n",
      "\n",
      "           0       0.15      0.36      0.21        14\n",
      "           1       0.15      0.08      0.11        25\n",
      "           2       0.00      0.00      0.00        24\n",
      "           3       0.00      0.00      0.00        16\n",
      "           4       0.00      0.00      0.00         4\n",
      "           5       0.00      0.00      0.00         9\n",
      "           6       0.09      0.33      0.14         9\n",
      "           7       0.00      0.00      0.00        10\n",
      "\n",
      "    accuracy                           0.09       111\n",
      "   macro avg       0.05      0.10      0.06       111\n",
      "weighted avg       0.06      0.09      0.06       111\n",
      "\n"
     ]
    }
   ],
   "source": [
    "prediction_GM=list(clusters_GM)\n",
    "report_GM = metrics.classification_report(ems,prediction_GM)\n",
    "print(report_GM)"
   ]
  },
  {
   "cell_type": "code",
   "execution_count": 19,
   "metadata": {},
   "outputs": [],
   "source": [
    "from sklearn.cluster import Birch\n",
    "model = Birch(threshold=0.01, n_clusters=8)\n",
    "clusters_B = model.fit_predict(pts)"
   ]
  },
  {
   "cell_type": "code",
   "execution_count": 20,
   "metadata": {},
   "outputs": [
    {
     "name": "stdout",
     "output_type": "stream",
     "text": [
      "              precision    recall  f1-score   support\n",
      "\n",
      "           0       0.30      0.21      0.25        14\n",
      "           1       0.33      0.08      0.13        25\n",
      "           2       0.50      0.04      0.08        24\n",
      "           3       0.16      0.69      0.27        16\n",
      "           4       0.00      0.00      0.00         4\n",
      "           5       0.19      0.33      0.24         9\n",
      "           6       0.00      0.00      0.00         9\n",
      "           7       0.00      0.00      0.00        10\n",
      "\n",
      "    accuracy                           0.18       111\n",
      "   macro avg       0.19      0.17      0.12       111\n",
      "weighted avg       0.26      0.18      0.13       111\n",
      "\n"
     ]
    }
   ],
   "source": [
    "prediction_B=list(clusters_B)\n",
    "report_B = metrics.classification_report(ems,prediction_B)\n",
    "print(report_B)"
   ]
  },
  {
   "cell_type": "code",
   "execution_count": 21,
   "metadata": {},
   "outputs": [],
   "source": [
    "from sklearn.cluster import SpectralClustering\n",
    "\n",
    "model = SpectralClustering(n_clusters=8)\n",
    "clusters_SC = model.fit_predict(pts)"
   ]
  },
  {
   "cell_type": "code",
   "execution_count": 22,
   "metadata": {},
   "outputs": [
    {
     "name": "stdout",
     "output_type": "stream",
     "text": [
      "              precision    recall  f1-score   support\n",
      "\n",
      "           0       0.29      0.71      0.42        14\n",
      "           1       0.28      0.56      0.37        25\n",
      "           2       0.00      0.00      0.00        24\n",
      "           3       0.00      0.00      0.00        16\n",
      "           4       0.00      0.00      0.00         4\n",
      "           5       0.00      0.00      0.00         9\n",
      "           6       0.27      0.44      0.33         9\n",
      "           7       0.50      0.10      0.17        10\n",
      "\n",
      "    accuracy                           0.26       111\n",
      "   macro avg       0.17      0.23      0.16       111\n",
      "weighted avg       0.17      0.26      0.18       111\n",
      "\n"
     ]
    }
   ],
   "source": [
    "prediction_SC=list(clusters_SC)\n",
    "report_SC = metrics.classification_report(ems,prediction_SC)\n",
    "print(report_SC)"
   ]
  },
  {
   "attachments": {},
   "cell_type": "markdown",
   "metadata": {},
   "source": [
    "<h4> visualisation of the clusters"
   ]
  },
  {
   "cell_type": "code",
   "execution_count": 91,
   "metadata": {},
   "outputs": [
    {
     "data": {
      "text/plain": [
       "Text(0.5, 1.0, 'Scattering into 8 clusters')"
      ]
     },
     "execution_count": 91,
     "metadata": {},
     "output_type": "execute_result"
    },
    {
     "data": {
      "text/plain": [
       "<Figure size 1000x1000 with 0 Axes>"
      ]
     },
     "metadata": {},
     "output_type": "display_data"
    },
    {
     "data": {
      "image/png": "[encoded data removed]",
      "text/plain": [
       "<Figure size 1000x1000 with 1 Axes>"
      ]
     },
     "metadata": {},
     "output_type": "display_data"
    }
   ],
   "source": [
    "fig = plt.figure(figsize=(10,10))\n",
    "X = []\n",
    "Y = []\n",
    "for i in range(len(pts)):\n",
    "    X.append(pts[i][0])\n",
    "    Y.append(pts[i][1])\n",
    "fig = plt.figure(figsize=(10,10))\n",
    "ax = sns.scatterplot(x=X,y=Y,c=clusters)\n",
    "plt.title(\"Scattering into 8 clusters\")"
   ]
  },
  {
   "attachments": {},
   "cell_type": "markdown",
   "metadata": {},
   "source": [
    "definition of an evaluation method to use with any cluster"
   ]
  },
  {
   "cell_type": "code",
   "execution_count": 93,
   "metadata": {},
   "outputs": [
    {
     "data": {
      "text/plain": [
       "111"
      ]
     },
     "execution_count": 93,
     "metadata": {},
     "output_type": "execute_result"
    }
   ],
   "source": [
    "comb_emo = ems.copy()\n",
    "len(comb_emo)"
   ]
  },
  {
   "cell_type": "code",
   "execution_count": 92,
   "metadata": {},
   "outputs": [
    {
     "name": "stdout",
     "output_type": "stream",
     "text": [
      "Accuracy 0.07\n"
     ]
    }
   ],
   "source": [
    "prediction=list(kmeans.labels_) \n",
    "report = metrics.classification_report(ems,prediction)\n",
    "accuracy = float(report.split()[-14])\n",
    "print('Accuracy',accuracy)"
   ]
  },
  {
   "attachments": {},
   "cell_type": "markdown",
   "metadata": {},
   "source": [
    "Evaluation"
   ]
  },
  {
   "cell_type": "code",
   "execution_count": 24,
   "metadata": {},
   "outputs": [],
   "source": [
    "mcc_sc = metrics.matthews_corrcoef(ems,prediction_SC)\n",
    "kappa_sc = metrics.cohen_kappa_score(ems,prediction_SC)\n",
    "accuracy_sc =float(report_SC.split()[-14])\n",
    "mcc_kmean = metrics.matthews_corrcoef(ems,prediction)\n",
    "kappa_kmean = metrics.cohen_kappa_score(ems,prediction)\n",
    "accuracy =float(report_kmeans.split()[-14])\n",
    "mcc_b = metrics.matthews_corrcoef(ems,prediction_B)\n",
    "kappa_b = metrics.cohen_kappa_score(ems,prediction_B)\n",
    "accuracy_b =float(report_B.split()[-14])\n",
    "mcc_gm = metrics.matthews_corrcoef(ems,prediction_GM)\n",
    "kappa_gm = metrics.cohen_kappa_score(ems,prediction_GM)\n",
    "accuracy_gm =float(report_GM.split()[-14])"
   ]
  },
  {
   "cell_type": "code",
   "execution_count": 29,
   "metadata": {},
   "outputs": [],
   "source": [
    "data ={\n",
    "       'Accuracy': [accuracy,accuracy_gm,accuracy_b,accuracy_sc],\n",
    "       'Kappa score': [kappa_kmean,kappa_gm,kappa_b,kappa_sc],\n",
    "       'Matthews corr coef':[mcc_kmean,mcc_gm,mcc_b,mcc_sc]}\n",
    "df = pd.DataFrame(data)\n",
    "df= df.set_index(pd.Index(['KMeans','Gausisan Mixture', 'Birch', 'Spectral Clustering']))\n",
    "# df_kmeans = df.transpose()\n",
    "df.to_csv('UCL_japan.csv')"
   ]
  },
  {
   "cell_type": "code",
   "execution_count": null,
   "metadata": {},
   "outputs": [],
   "source": []
  }
 ],
 "metadata": {
  "kernelspec": {
   "display_name": "Python 3.9.12 64-bit",
   "language": "python",
   "name": "python3"
  },
  "language_info": {
   "codemirror_mode": {
    "name": "ipython",
    "version": 3
   },
   "file_extension": ".py",
   "mimetype": "text/x-python",
   "name": "python",
   "nbconvert_exporter": "python",
   "pygments_lexer": "ipython3",
   "version": "3.9.16"
  },
  "vscode": {
   "interpreter": {
    "hash": "890e44a325cc3974d3176e56cda98f6c8479f1992ed4c18885e7d66cea0bf8fe"
   }
  }
 },
 "nbformat": 4,
 "nbformat_minor": 2
}
